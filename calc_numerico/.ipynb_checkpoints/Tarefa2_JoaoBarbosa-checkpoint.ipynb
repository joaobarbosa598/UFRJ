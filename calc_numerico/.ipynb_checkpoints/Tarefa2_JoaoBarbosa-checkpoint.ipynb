{
 "cells": [
  {
   "cell_type": "markdown",
   "id": "satisfactory-words",
   "metadata": {},
   "source": [
    "# Tarefa 2\n",
    "### **Nome:** João Vitor de Freitas Barbosa\n",
    "\n",
    "### **DRE:** 117055449"
   ]
  },
  {
   "cell_type": "code",
   "execution_count": 3,
   "id": "middle-restriction",
   "metadata": {},
   "outputs": [
    {
     "data": {
      "text/plain": [
       "fatorial (generic function with 1 method)"
      ]
     },
     "execution_count": 3,
     "metadata": {},
     "output_type": "execute_result"
    }
   ],
   "source": [
    "function fatorial(n :: Integer)\n",
    "    if n < 0\n",
    "        error(\"Fatorial só pode ser n>=0\")\n",
    "    elseif n == 0\n",
    "        return 1\n",
    "    else\n",
    "        return n * fatorial(n-1)\n",
    "    end\n",
    "end"
   ]
  },
  {
   "cell_type": "markdown",
   "id": "premium-table",
   "metadata": {},
   "source": [
    "### Exercício 3.3: \n",
    "Implemente em Julia o polinomial de Taylor para calcular ln(x) usando como exemplo esse link começando em 1:07:44. Na sua implementação, o usuário deve poder colocar um erro m ́aximo como entrada (dica: exercício anterior).\n",
    "\n",
    "\n",
    "Abaixo eu calculo o polinômio de Taylor de Ordem n para ln(x), onde as derivadas seguem\n",
    "f(x) = ln(x), f'(x) = 1/x, f''(x) = -1/(x^2), f'''(x) = 2/(x^3)"
   ]
  },
  {
   "cell_type": "code",
   "execution_count": 262,
   "id": "printable-adrian",
   "metadata": {},
   "outputs": [
    {
     "data": {
      "text/plain": [
       "ln (generic function with 2 methods)"
      ]
     },
     "execution_count": 262,
     "metadata": {},
     "output_type": "execute_result"
    }
   ],
   "source": [
    "function ln(x, n, atol)\n",
    "    s = 0.0\n",
    "    a = 1\n",
    "    b = -1\n",
    "    base = 1\n",
    "    for k = 1:n\n",
    "        s += ((a*(base^b))/fatorial(k))*((x-base)^k)\n",
    "        a=a*b\n",
    "        b+=-1\n",
    "    end\n",
    "    return s\n",
    "end"
   ]
  },
  {
   "cell_type": "code",
   "execution_count": 266,
   "id": "pleased-python",
   "metadata": {},
   "outputs": [
    {
     "data": {
      "text/plain": [
       "0.40546401996263515"
      ]
     },
     "execution_count": 266,
     "metadata": {},
     "output_type": "execute_result"
    }
   ],
   "source": [
    "ln(1.5, 25, 1e-8)"
   ]
  },
  {
   "cell_type": "code",
   "execution_count": 264,
   "id": "related-blocking",
   "metadata": {},
   "outputs": [
    {
     "data": {
      "text/plain": [
       "0.4054651081081644"
      ]
     },
     "execution_count": 264,
     "metadata": {},
     "output_type": "execute_result"
    }
   ],
   "source": [
    "log(1.5)"
   ]
  },
  {
   "cell_type": "markdown",
   "id": "integral-premises",
   "metadata": {},
   "source": [
    "### Exercício 5.1:\n",
    "Implemente em Julia o Método da Bisseção para calcular a solução da equação x^2 − 10 = 0 no intervalo [0,20]. Se precisar de ajuda use esse link começando em 11:00."
   ]
  },
  {
   "cell_type": "code",
   "execution_count": 118,
   "id": "narrow-tampa",
   "metadata": {},
   "outputs": [
    {
     "data": {
      "text/plain": [
       "(0.0, 20.0)"
      ]
     },
     "execution_count": 118,
     "metadata": {},
     "output_type": "execute_result"
    }
   ],
   "source": [
    "f(x) = x^2 - 10\n",
    "a, b = 0.0, 20.0"
   ]
  },
  {
   "cell_type": "code",
   "execution_count": 146,
   "id": "spanish-friendly",
   "metadata": {},
   "outputs": [
    {
     "data": {
      "text/plain": [
       "(3.1622767448425293, -5.789028136859997e-6)"
      ]
     },
     "execution_count": 146,
     "metadata": {},
     "output_type": "execute_result"
    }
   ],
   "source": [
    "x = (a+b) / 2\n",
    "\n",
    "if f(a) * f(x) < 0\n",
    "    b = x\n",
    "else\n",
    "    a = x\n",
    "end\n",
    "x, f(x)"
   ]
  },
  {
   "cell_type": "code",
   "execution_count": 154,
   "id": "pressed-error",
   "metadata": {},
   "outputs": [
    {
     "data": {
      "text/plain": [
       "bisseccao"
      ]
     },
     "execution_count": 154,
     "metadata": {},
     "output_type": "execute_result"
    }
   ],
   "source": [
    "\"\"\"\n",
    "    (x, fx, exitflag) = bisseccao(f, a, b)\n",
    "\"\"\"\n",
    "function bisseccao(f, a, b;\n",
    "                   atol = 1e-8, rtol = 1e-8,\n",
    "                   max_tempo = 10.0, max_iter = 1000)\n",
    "    fa = f(a)\n",
    "    fb = f(b)\n",
    "    ϵ = atol + rtol * max(abs(fa), abs(fb))\n",
    "    ϵba = atol + rtol * abs(b-a)\n",
    "    if abs(fa) <= ϵ\n",
    "        return a, fa, :sucesso\n",
    "    elseif abs(fb) <= ϵ\n",
    "        return b, fb, :sucesso\n",
    "    elseif fa * fb >= 0\n",
    "        return a, fa, :falha_sinais_opostos\n",
    "    end\n",
    "    \n",
    "    x = (a + b)/2\n",
    "    fx = f(x)\n",
    "    iter = 0\n",
    "    t0 = time()\n",
    "    δt = time() - t0\n",
    "    \n",
    "    resolvido = (abs(fx) <= ϵ || abs(b - a) <= ϵba)\n",
    "    cansado = (iter >= max_iter || δt >= max_tempo)\n",
    "    \n",
    "    while !(resolvido || cansado)\n",
    "        if f(a) * f(x) < 0\n",
    "            b = x\n",
    "            fb = fx\n",
    "        else\n",
    "            a = x\n",
    "            fa = fx\n",
    "        end\n",
    "        \n",
    "        x = (a + b)/2\n",
    "        fx = f(x)\n",
    "        \n",
    "        iter+=1\n",
    "        δt = time() - t0\n",
    "        resolvido = (abs(fx) <= ϵ || abs(b - a) <= ϵba)\n",
    "        cansado = (iter >= max_iter || δt >= max_tempo)\n",
    "    end\n",
    "    exitflag = :desconhecido\n",
    "    if resolvido\n",
    "        exitflag = :sucesso\n",
    "    elseif cansado\n",
    "        if iter >= max_tier\n",
    "            exitflag = :max_iter\n",
    "        else\n",
    "            exitflag = :max_tempo\n",
    "        end\n",
    "    end\n",
    "    \n",
    "    return x, fx, exitflag, iter, b-a\n",
    "end"
   ]
  },
  {
   "cell_type": "code",
   "execution_count": 155,
   "id": "sporting-stopping",
   "metadata": {},
   "outputs": [
    {
     "data": {
      "text/plain": [
       "(3.162277936935425, 1.7504285665381758e-6, :sucesso, 23, 2.384185791015625e-6)"
      ]
     },
     "execution_count": 155,
     "metadata": {},
     "output_type": "execute_result"
    }
   ],
   "source": [
    "f(x) = x^2 - 10\n",
    "a, b = 0.0, 20.0\n",
    "bisseccao(f, a, b)"
   ]
  },
  {
   "cell_type": "markdown",
   "id": "marked-script",
   "metadata": {},
   "source": [
    "### Exercício 5.2:\n",
    "Dado o intervalo [a, b] e o número n de passos da bissecção, qual ́e o tamanho do intervalo \n",
    "[an, bn]?\n",
    "\n",
    "Podemos ver abaixo que o tamanho do intervalo é dado pelo último valor de retorno: 2.384185791015625e-6"
   ]
  },
  {
   "cell_type": "code",
   "execution_count": 156,
   "id": "extraordinary-modeling",
   "metadata": {},
   "outputs": [
    {
     "data": {
      "text/plain": [
       "(3.162277936935425, 1.7504285665381758e-6, :sucesso, 23, 2.384185791015625e-6)"
      ]
     },
     "execution_count": 156,
     "metadata": {},
     "output_type": "execute_result"
    }
   ],
   "source": [
    "f(x) = x^2 - 10\n",
    "a, b = 0.0, 20.0\n",
    "bisseccao(f, a, b)"
   ]
  },
  {
   "cell_type": "markdown",
   "id": "empirical-cycle",
   "metadata": {},
   "source": [
    "### Desafio 5.1:\n",
    "Usando o exercício anterior, determine quantos passos você precisa\n",
    "executar no método da bissecção com intervalo [a, b] se o usuário pedir um erro\n",
    "máximo de 10^−8. Deixe claro com você esta definindo o erro.\n",
    "\n",
    "O erro no caso, está definido na própria função como **atol(erro absoluto)** e **rtol(erro relativo)** como 1e-8 = 10^-8\n",
    "\n",
    "\n",
    "Como podemos ver abaixo, temos 23 passos para um erro máximo de 10^-8"
   ]
  },
  {
   "cell_type": "code",
   "execution_count": 157,
   "id": "changed-particular",
   "metadata": {},
   "outputs": [
    {
     "data": {
      "text/plain": [
       "(3.162277936935425, 1.7504285665381758e-6, :sucesso, 23, 2.384185791015625e-6)"
      ]
     },
     "execution_count": 157,
     "metadata": {},
     "output_type": "execute_result"
    }
   ],
   "source": [
    "f(x) = x^2 - 10\n",
    "a, b = 0.0, 20.0\n",
    "bisseccao(f, a, b)"
   ]
  }
 ],
 "metadata": {
  "kernelspec": {
   "display_name": "Julia 1.6.0",
   "language": "julia",
   "name": "julia-1.6"
  },
  "language_info": {
   "file_extension": ".jl",
   "mimetype": "application/julia",
   "name": "julia",
   "version": "1.6.0"
  }
 },
 "nbformat": 4,
 "nbformat_minor": 5
}
