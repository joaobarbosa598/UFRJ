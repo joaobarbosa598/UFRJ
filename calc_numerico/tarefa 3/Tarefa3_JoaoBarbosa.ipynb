{
 "cells": [
  {
   "cell_type": "markdown",
   "id": "stock-wilson",
   "metadata": {},
   "source": [
    "## Nome: João Vitor de Freitas Barbosa\n",
    "### DRE: 117055449\n",
    "\n",
    "# <center>Tarefa 3</center>"
   ]
  },
  {
   "cell_type": "code",
   "execution_count": 19,
   "id": "standard-australian",
   "metadata": {},
   "outputs": [
    {
     "data": {
      "text/plain": [
       "newton (generic function with 1 method)"
      ]
     },
     "execution_count": 19,
     "metadata": {},
     "output_type": "execute_result"
    }
   ],
   "source": [
    "function newton(f, fd, x;\n",
    "                atol = 1e-8, rtol = 1e-8,\n",
    "                max_tempo = 10.0, max_iter = 1000,\n",
    "                )\n",
    "    fx = f(x)\n",
    "    ϵ = atol + rtol * abs(fx)\n",
    "    \n",
    "    iter = 0\n",
    "    t0 = time()\n",
    "    δt = time() - t0\n",
    "    \n",
    "    exitflag = :desconhecido\n",
    "    resolvido = (abs(fx) <= ϵ)\n",
    "    cansado = (iter >= max_iter || δt >= max_tempo)\n",
    "    \n",
    "    while !(resolvido || cansado)\n",
    "        fdx = fd(x)\n",
    "        if abs(fdx) <= ϵ\n",
    "            exitflag = :derivada_nula\n",
    "            break\n",
    "        end\n",
    "        x = x - fx / fdx\n",
    "        fx = f(x)\n",
    "        \n",
    "        iter+=1\n",
    "        δt = time() - t0\n",
    "        resolvido = (abs(fx) <= ϵ)\n",
    "        cansado = (iter >= max_iter || δt >= max_tempo)\n",
    "    end\n",
    "    \n",
    "    if resolvido\n",
    "        exitflag = :sucesso\n",
    "    elseif cansado\n",
    "        if iter >= max_iter\n",
    "            exitflag = :max_iter\n",
    "        else\n",
    "            exitflag = :max_tempo\n",
    "        end\n",
    "    end\n",
    "    \n",
    "    return x, fx, exitflag\n",
    "end        "
   ]
  },
  {
   "cell_type": "code",
   "execution_count": 22,
   "id": "featured-violin",
   "metadata": {},
   "outputs": [
    {
     "data": {
      "text/plain": [
       "(1.414213562373095048801688724209698078569671875376948073176679737990732478462102, -1.727233711018888925077270372560079914223200072887256277004740694033718360632485e-77, :max_iter)"
      ]
     },
     "execution_count": 22,
     "metadata": {},
     "output_type": "execute_result"
    }
   ],
   "source": [
    "f(x) = x^2 - 2\n",
    "fd(x) = 2x\n",
    "newton(f, fd, big\"1\", atol=1e-100, rtol=0.0)"
   ]
  },
  {
   "cell_type": "code",
   "execution_count": null,
   "id": "looking-compilation",
   "metadata": {},
   "outputs": [],
   "source": []
  },
  {
   "cell_type": "code",
   "execution_count": null,
   "id": "hispanic-cream",
   "metadata": {},
   "outputs": [],
   "source": []
  },
  {
   "cell_type": "code",
   "execution_count": null,
   "id": "interpreted-carnival",
   "metadata": {},
   "outputs": [],
   "source": []
  },
  {
   "cell_type": "code",
   "execution_count": null,
   "id": "informative-flood",
   "metadata": {},
   "outputs": [],
   "source": []
  },
  {
   "cell_type": "code",
   "execution_count": null,
   "id": "forced-spread",
   "metadata": {},
   "outputs": [],
   "source": []
  }
 ],
 "metadata": {
  "kernelspec": {
   "display_name": "Julia 1.6.0",
   "language": "julia",
   "name": "julia-1.6"
  },
  "language_info": {
   "file_extension": ".jl",
   "mimetype": "application/julia",
   "name": "julia",
   "version": "1.6.0"
  }
 },
 "nbformat": 4,
 "nbformat_minor": 5
}
