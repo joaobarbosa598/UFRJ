{
 "cells": [
  {
   "cell_type": "markdown",
   "id": "stock-wilson",
   "metadata": {},
   "source": [
    "## Nome: João Vitor de Freitas Barbosa\n",
    "### DRE: 117055449\n",
    "\n",
    "# <center>Tarefa 3</center>"
   ]
  },
  {
   "cell_type": "code",
   "execution_count": 62,
   "id": "black-report",
   "metadata": {},
   "outputs": [
    {
     "data": {
      "text/plain": [
       "bisseccao"
      ]
     },
     "execution_count": 62,
     "metadata": {},
     "output_type": "execute_result"
    }
   ],
   "source": [
    "\"\"\"\n",
    "    (x, fx, exitflag) = bisseccao(f, a, b)\n",
    "\"\"\"\n",
    "function bisseccao(f, a, b;\n",
    "                   atol = 1e-8, rtol = 1e-8,\n",
    "                   max_tempo = 10.0, max_iter = 1000)\n",
    "    fa = f(a)\n",
    "    fb = f(b)\n",
    "    ϵ = atol + rtol * max(abs(fa), abs(fb))\n",
    "    ϵba = atol + rtol * abs(b-a)\n",
    "    if abs(fa) <= ϵ\n",
    "        return a, fa, :sucesso\n",
    "    elseif abs(fb) <= ϵ\n",
    "        return b, fb, :sucesso\n",
    "    elseif fa * fb >= 0\n",
    "        return a, fa, :falha_sinais_opostos\n",
    "    end\n",
    "    \n",
    "    x = (a + b)/2\n",
    "    fx = f(x)\n",
    "    iter = 0\n",
    "    t0 = time()\n",
    "    δt = time() - t0\n",
    "    \n",
    "    resolvido = (abs(fx) <= ϵ || abs(b - a) <= ϵba)\n",
    "    cansado = (iter >= max_iter || δt >= max_tempo)\n",
    "    \n",
    "    while !(resolvido || cansado)\n",
    "        if f(a) * f(x) < 0\n",
    "            b = x\n",
    "            fb = fx\n",
    "        else\n",
    "            a = x\n",
    "            fa = fx\n",
    "        end\n",
    "        \n",
    "        x = (a + b)/2\n",
    "        fx = f(x)\n",
    "        \n",
    "        iter+=1\n",
    "        δt = time() - t0\n",
    "        resolvido = (abs(fx) <= ϵ || abs(b - a) <= ϵba)\n",
    "        cansado = (iter >= max_iter || δt >= max_tempo)\n",
    "    end\n",
    "    exitflag = :desconhecido\n",
    "    if resolvido\n",
    "        exitflag = :sucesso\n",
    "    elseif cansado\n",
    "        if iter >= max_tier\n",
    "            exitflag = :max_iter\n",
    "        else\n",
    "            exitflag = :max_tempo\n",
    "        end\n",
    "    end\n",
    "\"\"\"b será meu chute inicial\"\"\"\n",
    "    return b\n",
    "end"
   ]
  },
  {
   "cell_type": "code",
   "execution_count": 95,
   "id": "standard-australian",
   "metadata": {},
   "outputs": [
    {
     "data": {
      "text/plain": [
       "newton (generic function with 1 method)"
      ]
     },
     "execution_count": 95,
     "metadata": {},
     "output_type": "execute_result"
    }
   ],
   "source": [
    "function newton(f, fd, x;\n",
    "                atol = 1e-8, rtol = 1e-8,\n",
    "                max_tempo = 10.0, max_iter = 1000,\n",
    "                )\n",
    "    fx = f(x)\n",
    "    #calculando o erro\n",
    "    ϵ = atol + rtol * abs(fx)\n",
    "    \n",
    "    iter = 0\n",
    "    t0 = time()\n",
    "    δt = time() - t0\n",
    "    \n",
    "    exitflag = :desconhecido\n",
    "    resolvido = (abs(fx) <= ϵ)\n",
    "    cansado = (iter >= max_iter || δt >= max_tempo)\n",
    "    \n",
    "    while !(resolvido || cansado)\n",
    "        fdx = fd(x)\n",
    "        if abs(fdx) <= ϵ\n",
    "            exitflag = :derivada_nula\n",
    "            break\n",
    "        end\n",
    "        #calculo do metodo de Newton\n",
    "        x = x - fx / fdx\n",
    "        fx = f(x)\n",
    "        #calculando o maximo de iteracoes\n",
    "        iter+=1\n",
    "        δt = time() - t0\n",
    "        resolvido = (abs(fx) <= ϵ)\n",
    "        cansado = (iter >= max_iter || δt >= max_tempo)\n",
    "    end\n",
    "    \n",
    "    if resolvido\n",
    "        exitflag = :sucesso\n",
    "    elseif cansado\n",
    "        if iter >= max_iter\n",
    "            exitflag = :max_iter\n",
    "        else\n",
    "            exitflag = :max_tempo\n",
    "        end\n",
    "    end\n",
    "    \n",
    "    return x, fx, exitflag\n",
    "end        "
   ]
  },
  {
   "cell_type": "code",
   "execution_count": 59,
   "id": "featured-violin",
   "metadata": {},
   "outputs": [
    {
     "data": {
      "text/plain": [
       "(1.414213562373095048801688724209698078569671875376948073176679737990732478462102, -1.727233711018888925077270372560079914223200072887256277004740694033718360632485e-77, :max_iter)"
      ]
     },
     "execution_count": 59,
     "metadata": {},
     "output_type": "execute_result"
    }
   ],
   "source": [
    "f(x) = x^2 - 2\n",
    "fd(x) = 2x\n",
    "newton(f, fd, big\"1\", atol=1e-100, rtol=0.0)"
   ]
  },
  {
   "cell_type": "code",
   "execution_count": 5,
   "id": "looking-compilation",
   "metadata": {},
   "outputs": [
    {
     "data": {
      "text/plain": [
       "df1 (generic function with 1 method)"
      ]
     },
     "execution_count": 5,
     "metadata": {},
     "output_type": "execute_result"
    }
   ],
   "source": [
    "f1(x) = x^3-43\n",
    "df1(x) = 3x^2"
   ]
  },
  {
   "cell_type": "code",
   "execution_count": 119,
   "id": "hispanic-cream",
   "metadata": {},
   "outputs": [
    {
     "data": {
      "text/plain": [
       "newtonn (generic function with 1 method)"
      ]
     },
     "execution_count": 119,
     "metadata": {},
     "output_type": "execute_result"
    }
   ],
   "source": [
    "function newtonn(x_0,f,df)\n",
    "    x=x_0\n",
    "    #metodo de newton com 100 passos\n",
    "    for k=1:100\n",
    "        x=x-f(x)/df(x)\n",
    "    end\n",
    "    print(x, \"\\n\")\n",
    "    return x\n",
    "end"
   ]
  },
  {
   "cell_type": "code",
   "execution_count": 66,
   "id": "interpreted-carnival",
   "metadata": {},
   "outputs": [
    {
     "name": "stdout",
     "output_type": "stream",
     "text": [
      "4.916666666666666\n",
      "3.870710842988924\n",
      "3.5371517979700777\n",
      "3.5037191353207744\n",
      "3.503398089808593\n",
      "3.5033980603867243\n",
      "3.5033980603867243\n",
      "3.5033980603867243\n",
      "3.5033980603867243\n",
      "3.5033980603867243\n"
     ]
    },
    {
     "data": {
      "text/plain": [
       "3.5033980603867243"
      ]
     },
     "execution_count": 66,
     "metadata": {},
     "output_type": "execute_result"
    }
   ],
   "source": [
    "newtonn(2,f1,df1)"
   ]
  },
  {
   "cell_type": "code",
   "execution_count": 10,
   "id": "informative-flood",
   "metadata": {},
   "outputs": [
    {
     "data": {
      "text/plain": [
       "3.5033980603867243"
      ]
     },
     "execution_count": 10,
     "metadata": {},
     "output_type": "execute_result"
    }
   ],
   "source": [
    "cbrt(43)"
   ]
  },
  {
   "cell_type": "code",
   "execution_count": 55,
   "id": "forced-spread",
   "metadata": {},
   "outputs": [
    {
     "data": {
      "text/plain": [
       "df2 (generic function with 1 method)"
      ]
     },
     "execution_count": 55,
     "metadata": {},
     "output_type": "execute_result"
    }
   ],
   "source": [
    "f2(x) = -x^2+3x-1\n",
    "df2(x) = -2x+3"
   ]
  },
  {
   "cell_type": "code",
   "execution_count": 68,
   "id": "rolled-influence",
   "metadata": {},
   "outputs": [
    {
     "name": "stdout",
     "output_type": "stream",
     "text": [
      "0.0\n",
      "0.3333333333333333\n",
      "0.38095238095238093\n",
      "0.3819655521783181\n",
      "0.3819660112500109\n",
      "0.3819660112501052\n",
      "0.3819660112501051\n",
      "0.38196601125010515\n",
      "0.38196601125010515\n",
      "0.38196601125010515\n"
     ]
    },
    {
     "data": {
      "text/plain": [
       "0.38196601125010515"
      ]
     },
     "execution_count": 68,
     "metadata": {},
     "output_type": "execute_result"
    }
   ],
   "source": [
    "newtonn(1,f2,df2)"
   ]
  },
  {
   "cell_type": "markdown",
   "id": "increased-shoulder",
   "metadata": {},
   "source": [
    "3) Faça uma função em Julia que recebe um polinômio de grau 5 e retorna uma (só precisa retornar uma!) raiz do polinômio no intervalo [-100,100] se ela existir. Caso contrário, se ela não existir, retorne um aviso (tente usar uma combinação do método de Newton e  método da bisseção)."
   ]
  },
  {
   "cell_type": "code",
   "execution_count": 94,
   "id": "pressing-diagram",
   "metadata": {},
   "outputs": [
    {
     "name": "stdout",
     "output_type": "stream",
     "text": [
      "x0 = 100\n",
      "-1.3644301121725275\n"
     ]
    },
    {
     "data": {
      "text/plain": [
       "-1.3644301121725275"
      ]
     },
     "execution_count": 94,
     "metadata": {},
     "output_type": "execute_result"
    }
   ],
   "source": [
    "f3(x) = x^5-2x+2\n",
    "df3(x) = 5x^4-2\n",
    "a, b = -100, 100\n",
    "chuteInicial = bisseccao(f3,a,b)\n",
    "print(\"x0 = \",chuteInicial,\"\\n\")\n",
    "newtonn(chuteInicial,f3,df3)"
   ]
  },
  {
   "cell_type": "markdown",
   "id": "normal-estate",
   "metadata": {},
   "source": [
    "4)Faça um programa em Julia que recebe uma função f, sua derivada e segunda derivada e retorna um (só precisa retornar um!) máximo local da função f no intervalo [-10,10] se existir. Caso contrário, se não existir, e retorne um aviso (tente usar uma combinação do método de Newton e  método da bisseção).\n"
   ]
  },
  {
   "cell_type": "code",
   "execution_count": 115,
   "id": "varying-profit",
   "metadata": {},
   "outputs": [
    {
     "data": {
      "text/plain": [
       "bisseccaoMaximoLocal (generic function with 2 methods)"
      ]
     },
     "execution_count": 115,
     "metadata": {},
     "output_type": "execute_result"
    }
   ],
   "source": [
    "function bisseccaoMaximoLocal(a,b,f,df)\n",
    "    #bissecao metodo\n",
    "    x = (a + b)/2\n",
    "    fx = f(x)\n",
    "    dfx = df(x)\n",
    "    for k=1:10\n",
    "        #aplica newton para procurar o maximo local\n",
    "        if newtonnMaximoLocal(x,f,df)==true\n",
    "            return x\n",
    "        end\n",
    "        x = (a + b)/2\n",
    "    end\n",
    "    print(x, \"\\n\")\n",
    "    return x\n",
    "end"
   ]
  },
  {
   "cell_type": "code",
   "execution_count": 111,
   "id": "sound-bernard",
   "metadata": {},
   "outputs": [
    {
     "data": {
      "text/plain": [
       "newtonnMaximoLocal (generic function with 1 method)"
      ]
     },
     "execution_count": 111,
     "metadata": {},
     "output_type": "execute_result"
    }
   ],
   "source": [
    "function newtonnMaximoLocal(x_0,f,df)\n",
    "    x=x_0\n",
    "    for k=1:10\n",
    "        if(df(x)==0)\n",
    "            print(\"maximo local encontrado\")\n",
    "            return true\n",
    "        end\n",
    "        x=x-f(x)/df(x)\n",
    "    end\n",
    "    print(x, \"\\n\")\n",
    "    return x\n",
    "end"
   ]
  },
  {
   "cell_type": "code",
   "execution_count": 116,
   "id": "smooth-philip",
   "metadata": {},
   "outputs": [
    {
     "name": "stdout",
     "output_type": "stream",
     "text": [
      "-1.7679774194765994\n",
      "-1.7679774194765994\n",
      "-1.7679774194765994\n",
      "-1.7679774194765994\n",
      "-1.7679774194765994\n",
      "-1.7679774194765994\n",
      "-1.7679774194765994\n",
      "-1.7679774194765994\n",
      "-1.7679774194765994\n",
      "-1.7679774194765994\n",
      "0.0\n"
     ]
    },
    {
     "data": {
      "text/plain": [
       "0.0"
      ]
     },
     "execution_count": 116,
     "metadata": {},
     "output_type": "execute_result"
    }
   ],
   "source": [
    "f4(x) = x^3-2x+2\n",
    "df4(x) = 3x^2-2x+2\n",
    "a4, b4 = -10, 10\n",
    "chuteInicial = bisseccaoMaximoLocal(a4,b4,f4,df4)"
   ]
  },
  {
   "cell_type": "markdown",
   "id": "wrong-heath",
   "metadata": {},
   "source": [
    "5) No método de Newton precisamos ter como entrada a função e sua derivada. Suponha que não temos a derivada da função. Como podemos usar as aproximações de derivadas (que vimos nas aulas anteriores) para criar um novo método numérico análogo ao método de Newton que no lugar da derivada da função usa uma aproximação?  Depois de criar o algoritmo, faça sua implementação em Julia. Pense nesse problema sozinho, mas se precisar de uma dica procure \"método da secante\".\n"
   ]
  },
  {
   "cell_type": "code",
   "execution_count": 117,
   "id": "polished-words",
   "metadata": {},
   "outputs": [
    {
     "data": {
      "text/plain": [
       "secanteComDerivada (generic function with 1 method)"
      ]
     },
     "execution_count": 117,
     "metadata": {},
     "output_type": "execute_result"
    }
   ],
   "source": [
    "function secanteComDerivada(f, fd, x;atol = 1e-8)\n",
    "    x1 = x - 0.001\n",
    "    #aproximacao de derivadas\n",
    "    fddx = (fd(x) - fd(x1))/(x- x1)\n",
    "    #calculo do erro\n",
    "    ϵ  = atol *abs(fd(x))\n",
    "    while abs(x - x1) > ϵ\n",
    "        x1 = x\n",
    "        #newton\n",
    "        x = x - fd(x)/fddx\n",
    "        fddx = (fd(x) - fd(x1))/(x- x1)\n",
    "    end\n",
    "    return fddx\n",
    "end"
   ]
  },
  {
   "cell_type": "code",
   "execution_count": 118,
   "id": "included-tuner",
   "metadata": {},
   "outputs": [
    {
     "data": {
      "text/plain": [
       "3.406437402559797"
      ]
     },
     "execution_count": 118,
     "metadata": {},
     "output_type": "execute_result"
    }
   ],
   "source": [
    "f4(x) = x^3-2x+2\n",
    "df4(x) = 3x^2-2x+2\n",
    "a,b=-10,10\n",
    "chuteInicial = bisseccao(f4,a,b)\n",
    "secanteComDerivada(f4,df4,chuteInicial)"
   ]
  }
 ],
 "metadata": {
  "kernelspec": {
   "display_name": "Julia 1.6.0",
   "language": "julia",
   "name": "julia-1.6"
  },
  "language_info": {
   "file_extension": ".jl",
   "mimetype": "application/julia",
   "name": "julia",
   "version": "1.6.0"
  }
 },
 "nbformat": 4,
 "nbformat_minor": 5
}
