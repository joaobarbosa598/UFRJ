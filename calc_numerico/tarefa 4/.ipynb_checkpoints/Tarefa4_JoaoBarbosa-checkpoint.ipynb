{
 "cells": [
  {
   "cell_type": "code",
   "execution_count": 2,
   "id": "736213a0",
   "metadata": {},
   "outputs": [
    {
     "data": {
      "text/latex": [
       "$$\n",
       "\\textbf{Tarefa 4} \n",
       "\\\\\\text{ Laboratório - Questões de julia } \\\\\n",
       "$$"
      ],
      "text/plain": [
       "L\"$$\n",
       "\\textbf{Tarefa 4} \n",
       "\\\\\\text{ Laboratório - Questões de julia } \\\\\n",
       "$$\""
      ]
     },
     "execution_count": 2,
     "metadata": {},
     "output_type": "execute_result"
    }
   ],
   "source": [
    "#Wesley Mota de Oliviera Gomes\n",
    "using LaTeXStrings\n",
    "using Latexify\n",
    "L\"$$\n",
    "\\textbf{Tarefa 4} \n",
    "\\\\\\text{ Laboratório - Questões de julia } \\\\\n",
    "$$\""
   ]
  },
  {
   "cell_type": "code",
   "execution_count": 28,
   "id": "c445efa1",
   "metadata": {},
   "outputs": [
    {
     "data": {
      "text/plain": [
       "euler (generic function with 2 methods)"
      ]
     },
     "execution_count": 28,
     "metadata": {},
     "output_type": "execute_result"
    }
   ],
   "source": [
    "#Pelo método de euler é y(i+1) = y(i)+ h*y'(i)\n",
    "function euler(y0,x0,h, fd)\n",
    "    k = x0\n",
    "    y = y0\n",
    "    while k < 1\n",
    "        y = y + h*fd(k, y) #Aplicando euler\n",
    "        k = k + h #incrementando de h\n",
    "    end\n",
    "    return y\n",
    "end"
   ]
  },
  {
   "cell_type": "code",
   "execution_count": 26,
   "id": "1d0c2f7d",
   "metadata": {},
   "outputs": [
    {
     "data": {
      "text/plain": [
       "2.8531167061100002"
      ]
     },
     "execution_count": 26,
     "metadata": {},
     "output_type": "execute_result"
    }
   ],
   "source": [
    "#Questão 1 - letra a\n",
    "fd(x, y) = y\n",
    "euler(1, 0, 0.1, fd)"
   ]
  },
  {
   "cell_type": "code",
   "execution_count": 29,
   "id": "68ddfdec",
   "metadata": {},
   "outputs": [
    {
     "data": {
      "text/plain": [
       "2.0062389840082506"
      ]
     },
     "execution_count": 29,
     "metadata": {},
     "output_type": "execute_result"
    }
   ],
   "source": [
    "#Questão 1 - letra b\n",
    "fd(x, y) = y^2*x\n",
    "euler(1, 0, 0.1, fd)"
   ]
  },
  {
   "cell_type": "code",
   "execution_count": 20,
   "id": "808a95b4",
   "metadata": {},
   "outputs": [],
   "source": [
    "using LinearAlgebra"
   ]
  },
  {
   "cell_type": "code",
   "execution_count": 192,
   "id": "b3024b32",
   "metadata": {},
   "outputs": [
    {
     "data": {
      "text/plain": [
       "4-element Array{Float64,1}:\n",
       " -2.555555555555549\n",
       "  2.911111111111106\n",
       " -0.11111111111111002\n",
       "  0.02222222222222215"
      ]
     },
     "execution_count": 192,
     "metadata": {},
     "output_type": "execute_result"
    }
   ],
   "source": [
    "#Questão 2\n",
    "function matriz_vandermonde((x0, y0), (x1, y1), (x2, y2), (x3, y3))\n",
    "    xs = [\n",
    "            [1 x0 x0^2 x0^3];\n",
    "            [1 x1 x1^2 x1^3];\n",
    "            [1 x2 x2^2 x2^3];\n",
    "            [1 x3 x3^2 x3^3];\n",
    "        ]\n",
    "    ys = [[y0],[y1],[y2],[y3]]\n",
    "    print(xs)\n",
    "    print(\"\\n\")\n",
    "    print(ys)\n",
    "    print(\"\\n\")\n",
    "    a = xs\\ys\n",
    "    print(a)\n",
    "end\n",
    "a"
   ]
  },
  {
   "cell_type": "code",
   "execution_count": 37,
   "id": "86825463",
   "metadata": {},
   "outputs": [
    {
     "name": "stdout",
     "output_type": "stream",
     "text": [
      "[1 2 4 8; 1 5 25 125; 1 7 49 343; 1 8 64 512]\n",
      "[3, 12, 20, 25]\n",
      "[-2.555555555555549, 2.911111111111106, -0.11111111111111002, 0.02222222222222215]"
     ]
    }
   ],
   "source": [
    "matriz_vandermonde((2,3),(5,12),(7,20),(8,25))"
   ]
  },
  {
   "cell_type": "code",
   "execution_count": 165,
   "id": "1e4293ad",
   "metadata": {},
   "outputs": [
    {
     "data": {
      "text/plain": [
       "4-element Array{Float64,1}:\n",
       " -2.555555555555549\n",
       "  2.911111111111106\n",
       " -0.11111111111111002\n",
       "  0.02222222222222215"
      ]
     },
     "execution_count": 165,
     "metadata": {},
     "output_type": "execute_result"
    }
   ],
   "source": [
    "using LinearAlgebra\n",
    "x0 = 2 \n",
    "y0 = 3\n",
    "x1 = 5\n",
    "y1 = 12\n",
    "x2 = 7\n",
    "y2 = 20\n",
    "x3 = 8\n",
    "y3 = 25\n",
    "\n",
    "entrada = [(2,3),(5,12),(7,20),(8,25)]\n",
    "#entrada = [1,23,3]\n",
    "xs = zeros(length(entrada), length(entrada))\n",
    "ys = zeros(length(entrada))\n",
    "for k= 1: length(entrada)\n",
    "    xn,yn = entrada[k]\n",
    "    linha = []\n",
    "    for i = 0:length(entrada)-1\n",
    "        xs[k, i+1] = xn^i\n",
    "    end\n",
    "    ys[k] = yn\n",
    "end\n",
    "#xs\n",
    "a = xs\\ys\n"
   ]
  },
  {
   "cell_type": "code",
   "execution_count": 193,
   "id": "b2f3e6fa",
   "metadata": {},
   "outputs": [
    {
     "data": {
      "text/plain": [
       "matriz_vandermonde_xn (generic function with 1 method)"
      ]
     },
     "execution_count": 193,
     "metadata": {},
     "output_type": "execute_result"
    }
   ],
   "source": [
    "#Questão 3\n",
    "function matriz_vandermonde_xn(entrada)\n",
    "    xs = zeros(length(entrada), length(entrada))\n",
    "    ys = zeros(length(entrada))\n",
    "    for k= 1: length(entrada)\n",
    "        xn,yn = entrada[k]\n",
    "        linha = []\n",
    "        for i = 0:length(entrada)-1\n",
    "            xs[k, i+1] = xn^i\n",
    "        end\n",
    "        ys[k] = yn\n",
    "    end\n",
    "    a = xs\\ys\n",
    "    return a\n",
    "end"
   ]
  },
  {
   "cell_type": "code",
   "execution_count": 169,
   "id": "37b3d34c",
   "metadata": {},
   "outputs": [
    {
     "data": {
      "text/plain": [
       "4-element Array{Float64,1}:\n",
       " -2.555555555555549\n",
       "  2.911111111111106\n",
       " -0.11111111111111002\n",
       "  0.02222222222222215"
      ]
     },
     "execution_count": 169,
     "metadata": {},
     "output_type": "execute_result"
    }
   ],
   "source": [
    "matriz_vandermonde_xn([(2,3),(5,12),(7,20),(8,25)])"
   ]
  },
  {
   "cell_type": "code",
   "execution_count": 211,
   "id": "b2c3217c",
   "metadata": {},
   "outputs": [
    {
     "data": {
      "text/plain": [
       "6-element Array{Float64,1}:\n",
       " -170.63492063492063\n",
       " -324.04761904761904\n",
       " -433.015873015873\n",
       " -475.3174603174604\n",
       " -428.73015873015885\n",
       " -271.0317460317461"
      ]
     },
     "execution_count": 211,
     "metadata": {},
     "output_type": "execute_result"
    }
   ],
   "source": [
    "#Questão 4\n",
    "ddy(x) = 4x\n",
    "y0 = 5\n",
    "y10 = 20\n",
    "h = 10/6\n",
    "C = [\n",
    "    -2 1 0 0 0 0;\n",
    "    1 -2 1 0 0 0;\n",
    "    0 1 -2 1 0 0;\n",
    "    0 0 1 -2 1 0;\n",
    "    0 0 0 1 -2 1;\n",
    "    0 0 0 0 1 -2\n",
    "]\n",
    "b = [\n",
    "    ddy(h)*2*h - y0;\n",
    "    ddy(h*2)*2*h;\n",
    "    ddy(h*3)*2*h;\n",
    "    ddy(h*4)*2*h;\n",
    "    ddy(h*5)*2*h;\n",
    "    ddy(h*6)*2*h - y10;\n",
    "]\n",
    "y = C\\b"
   ]
  },
  {
   "cell_type": "code",
   "execution_count": 195,
   "id": "926834cf",
   "metadata": {},
   "outputs": [
    {
     "data": {
      "text/plain": [
       "3-element Array{Float64,1}:\n",
       " -6.0\n",
       "  1.0\n",
       "  1.0000000000000004"
      ]
     },
     "execution_count": 195,
     "metadata": {},
     "output_type": "execute_result"
    }
   ],
   "source": [
    "#Exercício 5 - a\n",
    "entrada = [(-1.2, -5.76),(0.3, -5.61), (1.1, -3.69)]\n",
    "matriz_vandermonde_xn(entrada)"
   ]
  },
  {
   "cell_type": "code",
   "execution_count": 196,
   "id": "29e9ee46",
   "metadata": {},
   "outputs": [
    {
     "data": {
      "text/plain": [
       "3-element Array{Float64,1}:\n",
       "  1.225\n",
       " -0.11783333333333336\n",
       "  0.0037222222222222257"
      ]
     },
     "execution_count": 196,
     "metadata": {},
     "output_type": "execute_result"
    }
   ],
   "source": [
    "#Exercício 5 - b\n",
    "entrada = [(0.0, 1.225),(3.0, 0.905), (6.0, 0.652)]\n",
    "matriz_vandermonde_xn(entrada)"
   ]
  },
  {
   "cell_type": "code",
   "execution_count": 210,
   "id": "82424169",
   "metadata": {},
   "outputs": [
    {
     "data": {
      "text/plain": [
       "0.4801242270498579"
      ]
     },
     "execution_count": 210,
     "metadata": {},
     "output_type": "execute_result"
    }
   ],
   "source": [
    "#Exercício 5 - c\n",
    "entrada = [(0.8,cos(0.8)),(0.9,cos(0.9)),(1.0,cos(1.0)),(1.1,cos(1.1)),(1.2,cos(1.2)),(1.3,cos(1.3))]\n",
    "a = matriz_vandermonde_xn(entrada)\n",
    "funcao_interpolada(x) = a[1]+a[2]x+a[3]x^2+a[4]x^3+a[5]x^4+a[6]x^5\n",
    "funcao_interpolada(1.07)"
   ]
  },
  {
   "cell_type": "code",
   "execution_count": 212,
   "id": "e3d9b61e",
   "metadata": {},
   "outputs": [
    {
     "data": {
      "text/plain": [
       "5-element Array{Float64,1}:\n",
       " 27.944444444444446\n",
       " 50.333333333333336\n",
       " 61.61111111111111\n",
       " 56.22222222222223\n",
       " 28.611111111111114"
      ]
     },
     "execution_count": 212,
     "metadata": {},
     "output_type": "execute_result"
    }
   ],
   "source": [
    "#Questão 6 - 2a\n",
    "ddy(x) = -x\n",
    "u0 = 0\n",
    "u1 = 1\n",
    "h = 10/6\n",
    "C = [\n",
    "    -2 1 0 0 0;\n",
    "    1 -2 1 0 0;\n",
    "    0 1 -2 1 0;\n",
    "    0 0 1 -2 1;\n",
    "    0 0 0 1 -2;\n",
    "]\n",
    "b = [\n",
    "    ddy(h)*2*h - u0;\n",
    "    ddy(h*2)*2*h;\n",
    "    ddy(h*3)*2*h;\n",
    "    ddy(h*4)*2*h; - u1;\n",
    "]\n",
    "y = C\\b"
   ]
  },
  {
   "cell_type": "code",
   "execution_count": null,
   "id": "97ad79ba",
   "metadata": {},
   "outputs": [],
   "source": [
    "#Questão 6 - 2b\n",
    "ddy(x) = -x\n",
    "u0 = 0\n",
    "u1 = 1\n",
    "h = 10/6\n",
    "C = [\n",
    "    -2 1 0 0 0;\n",
    "    1 -2 1 0 0;\n",
    "    0 1 -2 1 0;\n",
    "    0 0 1 -2 1;\n",
    "    0 0 0 1 -2;\n",
    "]\n",
    "b = [\n",
    "    ddy(h)*2*h - u0;\n",
    "    ddy(h*2)*2*h;\n",
    "    ddy(h*3)*2*h;\n",
    "    ddy(h*4)*2*h; - u1;\n",
    "]\n",
    "y = C\\b"
   ]
  }
 ],
 "metadata": {
  "kernelspec": {
   "display_name": "Julia 1.6.0",
   "language": "julia",
   "name": "julia-1.6"
  },
  "language_info": {
   "file_extension": ".jl",
   "mimetype": "application/julia",
   "name": "julia",
   "version": "1.6.0"
  }
 },
 "nbformat": 4,
 "nbformat_minor": 5
}
