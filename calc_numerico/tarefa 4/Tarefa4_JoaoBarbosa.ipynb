{
 "cells": [
  {
   "cell_type": "markdown",
   "id": "constant-tribune",
   "metadata": {},
   "source": [
    "## Nome: João Vitor de Freitas Barbosa\n",
    "### DRE: 117055449\n",
    "\n",
    "# <center>Tarefa 4</center>"
   ]
  },
  {
   "cell_type": "code",
   "execution_count": 113,
   "id": "c445efa1",
   "metadata": {},
   "outputs": [
    {
     "data": {
      "text/plain": [
       "euler (generic function with 1 method)"
      ]
     },
     "execution_count": 113,
     "metadata": {},
     "output_type": "execute_result"
    }
   ],
   "source": [
    "#y(i+1) = y(i)+ h*y'(i) pelo método\n",
    "function euler(y0,x0,h, fd)\n",
    "    k = x0\n",
    "    y = y0\n",
    "    while k < 1\n",
    "        y = y + h*fd(k, y) #Aplicando euler\n",
    "        k = k + h #incrementando de h\n",
    "    end\n",
    "    return y\n",
    "end"
   ]
  },
  {
   "cell_type": "markdown",
   "id": "metric-vaccine",
   "metadata": {},
   "source": [
    "### Questão 1: \n",
    "a) **y'(x) = y(x) com y(0)=1**"
   ]
  },
  {
   "cell_type": "code",
   "execution_count": 8,
   "id": "1d0c2f7d",
   "metadata": {},
   "outputs": [
    {
     "data": {
      "text/plain": [
       "2.8531167061100002"
      ]
     },
     "execution_count": 8,
     "metadata": {},
     "output_type": "execute_result"
    }
   ],
   "source": [
    "#letra a\n",
    "fd(x, y) = y\n",
    "euler(1, 0, 0.1, fd)"
   ]
  },
  {
   "cell_type": "markdown",
   "id": "hungry-softball",
   "metadata": {},
   "source": [
    "b) **y'(x) = y(x)²x com y(0)=1**"
   ]
  },
  {
   "cell_type": "code",
   "execution_count": 9,
   "id": "68ddfdec",
   "metadata": {},
   "outputs": [
    {
     "data": {
      "text/plain": [
       "2.0062389840082506"
      ]
     },
     "execution_count": 9,
     "metadata": {},
     "output_type": "execute_result"
    }
   ],
   "source": [
    "#letra b\n",
    "fd(x, y) = y^2*x\n",
    "euler(1, 0, 0.1, fd)"
   ]
  },
  {
   "cell_type": "markdown",
   "id": "robust-console",
   "metadata": {},
   "source": [
    "### Questão 2: \n",
    "Implemente uma função em Julia tal que  \n",
    "a) Entrada: os pontos(x0, y0),(x1,y1),(x2,y2) e (x3,y3)  \n",
    "b) Saída: os 4 coeficientes do polinômio P(x) de grau 3 tal que P(xi) = yi"
   ]
  },
  {
   "cell_type": "code",
   "execution_count": 28,
   "id": "808a95b4",
   "metadata": {},
   "outputs": [],
   "source": [
    "using LinearAlgebra"
   ]
  },
  {
   "cell_type": "code",
   "execution_count": 141,
   "id": "b3024b32",
   "metadata": {},
   "outputs": [
    {
     "data": {
      "text/plain": [
       "vandermonde (generic function with 1 method)"
      ]
     },
     "execution_count": 141,
     "metadata": {},
     "output_type": "execute_result"
    }
   ],
   "source": [
    "#Questão 2\n",
    "function vandermonde((x0,y0),(x1,y1),(x2,y2),(x3,y3))\n",
    "    xs = [\n",
    "            [1 x0 x0^2 x0^3];\n",
    "            [1 x1 x1^2 x1^3];\n",
    "            [1 x2 x2^2 x2^3];\n",
    "            [1 x3 x3^2 x3^3];\n",
    "        ]\n",
    "    ys = [[y0],[y1],[y2],[y3]]\n",
    "    print(xs)\n",
    "    print(\"\\n\")\n",
    "    print(ys)\n",
    "    print(\"\\n\")\n",
    "    print(xs\\ys)\n",
    "end\n",
    "\n"
   ]
  },
  {
   "cell_type": "code",
   "execution_count": 104,
   "id": "86825463",
   "metadata": {},
   "outputs": [
    {
     "name": "stdout",
     "output_type": "stream",
     "text": [
      "[-2.555555555555549, 2.911111111111106, -0.11111111111111002, 0.02222222222222215]"
     ]
    }
   ],
   "source": [
    "vandermonde((2,3),(5,12),(7,20),(8,25))"
   ]
  },
  {
   "cell_type": "code",
   "execution_count": 140,
   "id": "1e4293ad",
   "metadata": {},
   "outputs": [
    {
     "name": "stdout",
     "output_type": "stream",
     "text": [
      "[-2.555555555555549, 2.911111111111106, -0.11111111111111002, 0.02222222222222215]"
     ]
    }
   ],
   "source": [
    "using LinearAlgebra\n",
    "x0 = 2 \n",
    "y0 = 3\n",
    "x1 = 5\n",
    "y1 = 12\n",
    "x2 = 7\n",
    "y2 = 20\n",
    "x3 = 8\n",
    "y3 = 25\n",
    "#prova de corretude\n",
    "entrada = [(2,3),(5,12),(7,20),(8,25)]\n",
    "#entrada = [1,23,3]\n",
    "xs = zeros(length(entrada), length(entrada))\n",
    "ys = zeros(length(entrada))\n",
    "for k= 1: length(entrada)\n",
    "    xn,yn = entrada[k]\n",
    "    linha = []\n",
    "    for i = 0:length(entrada)-1\n",
    "        xs[k, i+1] = xn^i\n",
    "    end\n",
    "    ys[k] = yn\n",
    "end\n",
    "#xs\n",
    "saida = xs\\ys\n",
    "print(saida)"
   ]
  },
  {
   "cell_type": "markdown",
   "id": "convertible-version",
   "metadata": {},
   "source": [
    "### Questão 3:\n",
    "Generalize o item anterior para a função poder receber n pontos"
   ]
  },
  {
   "cell_type": "code",
   "execution_count": 128,
   "id": "b2f3e6fa",
   "metadata": {},
   "outputs": [
    {
     "data": {
      "text/plain": [
       "vandermonde_xn (generic function with 1 method)"
      ]
     },
     "execution_count": 128,
     "metadata": {},
     "output_type": "execute_result"
    }
   ],
   "source": [
    "#Questão 3\n",
    "function vandermonde_xn(entrada)\n",
    "    xs = zeros(length(entrada), length(entrada))\n",
    "    ys = zeros(length(entrada))\n",
    "    for k= 1: length(entrada)\n",
    "        xn,yn = entrada[k]\n",
    "        linha = []\n",
    "        for i = 0:length(entrada)-1\n",
    "            xs[k, i+1] = xn^i\n",
    "        end\n",
    "        ys[k] = yn\n",
    "    end\n",
    "    a = xs\\ys\n",
    "    return a\n",
    "end"
   ]
  },
  {
   "cell_type": "code",
   "execution_count": 139,
   "id": "37b3d34c",
   "metadata": {},
   "outputs": [
    {
     "name": "stdout",
     "output_type": "stream",
     "text": [
      "[-2.555555555555549, 2.911111111111106, -0.11111111111111002, 0.02222222222222215]"
     ]
    }
   ],
   "source": [
    "saida = vandermonde_xn([(2,3),(5,12),(7,20),(8,25)])\n",
    "print(saida)"
   ]
  },
  {
   "cell_type": "markdown",
   "id": "described-chassis",
   "metadata": {},
   "source": [
    "### Questão 4:\n",
    "Dado o PVC y''(x) = 4x com y(0) = 5 e y(10) = 20\n",
    "a) Monte o sistema linear que aproxima pelo método de diferenças finitas com 6 intervalos na discretização  \n",
    "b) Resolva o sistema linear obtido no item anterior no Julia  \n",
    "c) Use a função de interpolação para descobrir y(3.2345)"
   ]
  },
  {
   "cell_type": "code",
   "execution_count": 138,
   "id": "b2c3217c",
   "metadata": {},
   "outputs": [
    {
     "data": {
      "text/plain": [
       "6-element Vector{Float64}:\n",
       " -170.63492063492063\n",
       " -324.04761904761904\n",
       " -433.015873015873\n",
       " -475.3174603174604\n",
       " -428.73015873015885\n",
       " -271.0317460317461"
      ]
     },
     "execution_count": 138,
     "metadata": {},
     "output_type": "execute_result"
    }
   ],
   "source": [
    "#Questão 4\n",
    "ddy(x) = 4x\n",
    "y0 = 5\n",
    "y10 = 20\n",
    "h = 10/6\n",
    "K = [\n",
    "    -2 1 0 0 0 0;\n",
    "    1 -2 1 0 0 0;\n",
    "    0 1 -2 1 0 0;\n",
    "    0 0 1 -2 1 0;\n",
    "    0 0 0 1 -2 1;\n",
    "    0 0 0 0 1 -2\n",
    "]\n",
    "l = [\n",
    "    ddy(h)*2*h - y0;\n",
    "    ddy(h*2)*2*h;\n",
    "    ddy(h*3)*2*h;\n",
    "    ddy(h*4)*2*h;\n",
    "    ddy(h*5)*2*h;\n",
    "    ddy(h*6)*2*h - y10;\n",
    "]\n",
    "y = K\\l"
   ]
  },
  {
   "cell_type": "markdown",
   "id": "decimal-equivalent",
   "metadata": {},
   "source": [
    "### Questão 5:\n",
    "Resolva os seguintes exercícios da apostila do Collier com polinômios de Lagrange e também com a sua função da questão 2  \n",
    "a) Exercício 1 pag109  \n",
    "b) Exercício 2 pag109  \n",
    "c) Exercício 3 pag109  "
   ]
  },
  {
   "cell_type": "code",
   "execution_count": 130,
   "id": "926834cf",
   "metadata": {},
   "outputs": [
    {
     "data": {
      "text/plain": [
       "3-element Vector{Float64}:\n",
       " -6.0\n",
       "  1.0\n",
       "  1.0000000000000004"
      ]
     },
     "execution_count": 130,
     "metadata": {},
     "output_type": "execute_result"
    }
   ],
   "source": [
    "#a)\n",
    "entrada = [(-1.2, -5.76),(0.3, -5.61), (1.1, -3.69)]\n",
    "vandermonde_xn(entrada)"
   ]
  },
  {
   "cell_type": "code",
   "execution_count": 136,
   "id": "29e9ee46",
   "metadata": {},
   "outputs": [
    {
     "data": {
      "text/plain": [
       "3-element Vector{Float64}:\n",
       "  1.225\n",
       " -0.11783333333333336\n",
       "  0.0037222222222222257"
      ]
     },
     "execution_count": 136,
     "metadata": {},
     "output_type": "execute_result"
    }
   ],
   "source": [
    "#b)\n",
    "entrada = [(0.0, 1.225),(3.0, 0.905), (6.0, 0.652)]\n",
    "vandermonde_xn(entrada)"
   ]
  },
  {
   "cell_type": "code",
   "execution_count": 135,
   "id": "82424169",
   "metadata": {},
   "outputs": [
    {
     "data": {
      "text/plain": [
       "0.48012422704985785"
      ]
     },
     "execution_count": 135,
     "metadata": {},
     "output_type": "execute_result"
    }
   ],
   "source": [
    "#c)\n",
    "entrada = [(0.8,cos(0.8)),(0.9,cos(0.9)),(1.0,cos(1.0)),(1.1,cos(1.1)),(1.2,cos(1.2)),(1.3,cos(1.3))]\n",
    "saida = vandermonde_xn(entrada)\n",
    "funcao_interpolada(x) = a[1]+a[2]x+a[3]x^2+a[4]x^3+a[5]x^4+a[6]x^5\n",
    "funcao_interpolada(1.07)"
   ]
  },
  {
   "cell_type": "markdown",
   "id": "animated-binary",
   "metadata": {},
   "source": [
    "### Questão 6:\n",
    "Exercício 2a e 2b da apostila do Collier"
   ]
  },
  {
   "cell_type": "code",
   "execution_count": 134,
   "id": "e3d9b61e",
   "metadata": {},
   "outputs": [
    {
     "data": {
      "text/plain": [
       "5-element Vector{Float64}:\n",
       " 27.944444444444446\n",
       " 50.333333333333336\n",
       " 61.61111111111111\n",
       " 56.22222222222223\n",
       " 28.611111111111114"
      ]
     },
     "execution_count": 134,
     "metadata": {},
     "output_type": "execute_result"
    }
   ],
   "source": [
    "#2a\n",
    "ddy(x) = -x\n",
    "u0 = 0\n",
    "u1 = 1\n",
    "h = 10/6\n",
    "K = [\n",
    "    -2 1 0 0 0;\n",
    "    1 -2 1 0 0;\n",
    "    0 1 -2 1 0;\n",
    "    0 0 1 -2 1;\n",
    "    0 0 0 1 -2;\n",
    "]\n",
    "l = [\n",
    "    ddy(h)*2*h - u0;\n",
    "    ddy(h*2)*2*h;\n",
    "    ddy(h*3)*2*h;\n",
    "    ddy(h*4)*2*h; - u1;\n",
    "]\n",
    "y = K\\l"
   ]
  },
  {
   "cell_type": "code",
   "execution_count": 133,
   "id": "97ad79ba",
   "metadata": {},
   "outputs": [
    {
     "data": {
      "text/plain": [
       "5-element Vector{Float64}:\n",
       " 27.944444444444446\n",
       " 50.333333333333336\n",
       " 61.61111111111111\n",
       " 56.22222222222223\n",
       " 28.611111111111114"
      ]
     },
     "execution_count": 133,
     "metadata": {},
     "output_type": "execute_result"
    }
   ],
   "source": [
    "#2b\n",
    "ddy(x) = -x\n",
    "u0 = 0\n",
    "u1 = 1\n",
    "h = 10/6\n",
    "K = [\n",
    "    -2 1 0 0 0;\n",
    "    1 -2 1 0 0;\n",
    "    0 1 -2 1 0;\n",
    "    0 0 1 -2 1;\n",
    "    0 0 0 1 -2;\n",
    "]\n",
    "l = [\n",
    "    ddy(h)*2*h - u0;\n",
    "    ddy(h*2)*2*h;\n",
    "    ddy(h*3)*2*h;\n",
    "    ddy(h*4)*2*h; - u1;\n",
    "]\n",
    "y = K\\l"
   ]
  }
 ],
 "metadata": {
  "kernelspec": {
   "display_name": "Julia 1.6.0",
   "language": "julia",
   "name": "julia-1.6"
  },
  "language_info": {
   "file_extension": ".jl",
   "mimetype": "application/julia",
   "name": "julia",
   "version": "1.6.0"
  }
 },
 "nbformat": 4,
 "nbformat_minor": 5
}
